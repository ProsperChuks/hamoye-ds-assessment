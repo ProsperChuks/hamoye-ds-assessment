{
  "nbformat": 4,
  "nbformat_minor": 0,
  "metadata": {
    "colab": {
      "name": "assesstment.ipynb",
      "provenance": [],
      "toc_visible": true,
      "authorship_tag": "ABX9TyP3IbkcJgBDtjCksmP92Uqm",
      "include_colab_link": true
    },
    "kernelspec": {
      "name": "python3",
      "display_name": "Python 3"
    },
    "language_info": {
      "name": "python"
    }
  },
  "cells": [
    {
      "cell_type": "markdown",
      "metadata": {
        "id": "view-in-github",
        "colab_type": "text"
      },
      "source": [
        "<a href=\"https://colab.research.google.com/github/ProsperChuks/hamoye-ds-assessment/blob/main/assesstment.ipynb\" target=\"_parent\"><img src=\"https://colab.research.google.com/assets/colab-badge.svg\" alt=\"Open In Colab\"/></a>"
      ]
    },
    {
      "cell_type": "code",
      "metadata": {
        "colab": {
          "base_uri": "https://localhost:8080/"
        },
        "id": "mxUUS01SjsRQ",
        "outputId": "1484c568-cffe-4be1-b556-c4c87572aa9c"
      },
      "source": [
        "import pandas as pd\n",
        "import matplotlib.pyplot as plt\n",
        "import seaborn as sns\n",
        "\n",
        "dataset_url = \"https://raw.githubusercontent.com/WalePhenomenon/climate_change/master/fuel_ferc1.csv\"\n",
        "dframe = pd.read_csv(dataset_url, error_bad_lines=False)\n",
        "\n",
        "# getting the lowest average\n",
        "dframe['fuel_type_code_pudl'].min()\n",
        "\n",
        "# getting the STD and 75th for fuel_mmbtu_per_unit\n",
        "dframe.describe(include='all')\n",
        "\n",
        "# getting the lowest correalation between \n",
        "col1 = dframe['fuel_cost_per_unit_burned']\n",
        "col2 = dframe['fuel_cost_per_unit_delivered']\n",
        "correlation = col1.corr(col2)\n",
        "print(correlation)"
      ],
      "execution_count": 22,
      "outputs": [
        {
          "output_type": "stream",
          "text": [
            "0.01100740329916511\n"
          ],
          "name": "stdout"
        }
      ]
    },
    {
      "cell_type": "code",
      "metadata": {
        "id": "Trmucq4jSju5"
      },
      "source": [
        ""
      ],
      "execution_count": 8,
      "outputs": []
    }
  ]
}