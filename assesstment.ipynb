{
  "nbformat": 4,
  "nbformat_minor": 0,
  "metadata": {
    "colab": {
      "name": "assesstment.ipynb",
      "provenance": [],
      "toc_visible": true,
      "authorship_tag": "ABX9TyMSgEPP+EPHJUXs1DLlakPK",
      "include_colab_link": true
    },
    "kernelspec": {
      "name": "python3",
      "display_name": "Python 3"
    },
    "language_info": {
      "name": "python"
    }
  },
  "cells": [
    {
      "cell_type": "markdown",
      "metadata": {
        "id": "view-in-github",
        "colab_type": "text"
      },
      "source": [
        "<a href=\"https://colab.research.google.com/github/ProsperChuks/hamoye-ds-assessment/blob/main/assesstment.ipynb\" target=\"_parent\"><img src=\"https://colab.research.google.com/assets/colab-badge.svg\" alt=\"Open In Colab\"/></a>"
      ]
    },
    {
      "cell_type": "code",
      "metadata": {
        "colab": {
          "base_uri": "https://localhost:8080/"
        },
        "id": "mxUUS01SjsRQ",
        "outputId": "aa158d3b-a35a-455f-dea9-8004319ba826"
      },
      "source": [
        "import pandas as pd\n",
        "import matplotlib.pyplot as plt\n",
        "import seaborn as sns\n",
        "\n",
        "dataset_url = \"https://raw.githubusercontent.com/WalePhenomenon/climate_change/master/fuel_ferc1.csv\"\n",
        "dframe = pd.read_csv(dataset_url, error_bad_lines=False)\n",
        "\n",
        "# getting the lowest average\n",
        "print('---Lowest Average---')\n",
        "print(dframe['fuel_type_code_pudl'].min())\n",
        "\n",
        "# getting the STD and 75th for fuel_mmbtu_per_unit\n",
        "print('---STD and 75%---')\n",
        "print(dframe.describe(include='all'))\n",
        "\n",
        "# getting the lowest correalation between \n",
        "print('---Correlation---')\n",
        "col1 = dframe['fuel_cost_per_unit_burned']\n",
        "col2 = dframe['fuel_cost_per_unit_delivered']\n",
        "correlation = col1.corr(col2)\n",
        "print(correlation)\n",
        "\n",
        "# percentage change in the 1998 and 1994\n",
        "print('---Percentage Change---')\n",
        "coal = dframe.loc[dframe['fuel_type_code_pudl'] == 'coal']\n",
        "\n",
        "df1994 = coal.loc[coal['report_year'] == 1994]\n",
        "print(df1994['fuel_cost_per_unit_burned'].pct_change().sum())\n",
        "\n",
        "df1998 = coal.loc[dframe['report_year'] == 1998]\n",
        "print(df1998['fuel_cost_per_unit_burned'].pct_change().sum())\n"
      ],
      "execution_count": 37,
      "outputs": [
        {
          "output_type": "stream",
          "text": [
            "---Lowest Average---\n",
            "coal\n",
            "---STD and 75%---\n",
            "                      record_id  ...  fuel_cost_per_mmbtu\n",
            "count                     29523  ...         29523.000000\n",
            "unique                    29523  ...                  NaN\n",
            "top     f1_fuel_1997_12_56_1_12  ...                  NaN\n",
            "freq                          1  ...                  NaN\n",
            "mean                        NaN  ...            19.304354\n",
            "std                         NaN  ...          2091.540939\n",
            "min                         NaN  ...           -41.501000\n",
            "25%                         NaN  ...             1.940000\n",
            "50%                         NaN  ...             4.127000\n",
            "75%                         NaN  ...             7.745000\n",
            "max                         NaN  ...        359278.000000\n",
            "\n",
            "[11 rows x 11 columns]\n",
            "---Correlation---\n",
            "0.01100740329916511\n",
            "---Percentage Change---\n",
            "32.65753617595242\n",
            "101.10397544456904\n"
          ],
          "name": "stdout"
        }
      ]
    },
    {
      "cell_type": "code",
      "metadata": {
        "id": "Trmucq4jSju5"
      },
      "source": [
        ""
      ],
      "execution_count": 8,
      "outputs": []
    }
  ]
}