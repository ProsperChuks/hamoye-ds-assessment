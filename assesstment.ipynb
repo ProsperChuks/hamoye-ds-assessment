{
  "nbformat": 4,
  "nbformat_minor": 0,
  "metadata": {
    "colab": {
      "name": "assesstment.ipynb",
      "provenance": [],
      "collapsed_sections": [],
      "toc_visible": true,
      "authorship_tag": "ABX9TyM/VCsp6JRa/B0R/ji58/KI",
      "include_colab_link": true
    },
    "kernelspec": {
      "name": "python3",
      "display_name": "Python 3"
    },
    "language_info": {
      "name": "python"
    }
  },
  "cells": [
    {
      "cell_type": "markdown",
      "metadata": {
        "id": "view-in-github",
        "colab_type": "text"
      },
      "source": [
        "<a href=\"https://colab.research.google.com/github/ProsperChuks/hamoye-ds-assessment/blob/main/assesstment.ipynb\" target=\"_parent\"><img src=\"https://colab.research.google.com/assets/colab-badge.svg\" alt=\"Open In Colab\"/></a>"
      ]
    },
    {
      "cell_type": "code",
      "metadata": {
        "colab": {
          "base_uri": "https://localhost:8080/"
        },
        "id": "mxUUS01SjsRQ",
        "outputId": "97275c0f-adf6-4662-c072-d5568dbcd8e1"
      },
      "source": [
        "import pandas as pd\n",
        "import numpy as np\n",
        "\n",
        "dataset_url = \"https://raw.githubusercontent.com/WalePhenomenon/climate_change/master/fuel_ferc1.csv\"\n",
        "dframe = pd.read_csv(dataset_url, error_bad_lines=False)\n",
        "\n",
        "a = [1,2,3,4,5,6]\n",
        "b = [13, 21, 34]\n",
        "\n",
        "a.extend(b)\n",
        "print(a)"
      ],
      "execution_count": 2,
      "outputs": [
        {
          "output_type": "stream",
          "text": [
            "[1, 2, 3, 4, 5, 6, 13, 21, 34]\n"
          ],
          "name": "stdout"
        }
      ]
    },
    {
      "cell_type": "markdown",
      "metadata": {
        "id": "3fWEfGEeQdQ_"
      },
      "source": [
        "### creating an identity matrix"
      ]
    },
    {
      "cell_type": "code",
      "metadata": {
        "colab": {
          "base_uri": "https://localhost:8080/"
        },
        "id": "4rOPXDqsQIZP",
        "outputId": "e7fb4157-9881-46db-d769-f5a5c21a799b"
      },
      "source": [
        "ide = np.identity(3)\n",
        "ide"
      ],
      "execution_count": 3,
      "outputs": [
        {
          "output_type": "execute_result",
          "data": {
            "text/plain": [
              "array([[1., 0., 0.],\n",
              "       [0., 1., 0.],\n",
              "       [0., 0., 1.]])"
            ]
          },
          "metadata": {},
          "execution_count": 3
        }
      ]
    },
    {
      "cell_type": "markdown",
      "metadata": {
        "id": "Qk29bAhkQ0OM"
      },
      "source": [
        "### getting the lowest average fuel cost per unit burned"
      ]
    },
    {
      "cell_type": "code",
      "metadata": {
        "id": "Trmucq4jSju5",
        "colab": {
          "base_uri": "https://localhost:8080/",
          "height": 52
        },
        "outputId": "f707be23-9e6f-4aa1-ad1e-180afc615e62"
      },
      "source": [
        "# getting the lowest average\n",
        "print('---Lowest Average---')\n",
        "dframe['fuel_type_code_pudl'].min()"
      ],
      "execution_count": 4,
      "outputs": [
        {
          "output_type": "stream",
          "text": [
            "---Lowest Average---\n"
          ],
          "name": "stdout"
        },
        {
          "output_type": "execute_result",
          "data": {
            "application/vnd.google.colaboratory.intrinsic+json": {
              "type": "string"
            },
            "text/plain": [
              "'coal'"
            ]
          },
          "metadata": {},
          "execution_count": 4
        }
      ]
    },
    {
      "cell_type": "markdown",
      "metadata": {
        "id": "DKNhofK8TbdF"
      },
      "source": [
        "### getting the Standard Deviation and 75th for fuel_mmbtu_per_unit"
      ]
    },
    {
      "cell_type": "code",
      "metadata": {
        "colab": {
          "base_uri": "https://localhost:8080/"
        },
        "id": "itl7ajDiQuqu",
        "outputId": "0a2e5f53-30f4-4601-bde3-4f9542336aa8"
      },
      "source": [
        "print('---STD---')\n",
        "st = dframe['fuel_mmbtu_per_unit'].std()\n",
        "print('%.2f'% st, '\\n')\n",
        "\n",
        "print('---75th---')\n",
        "st = dframe['fuel_mmbtu_per_unit'].quantile(0.75)\n",
        "st.round(decimals=2)"
      ],
      "execution_count": 6,
      "outputs": [
        {
          "output_type": "stream",
          "text": [
            "---STD---\n",
            "10.60 \n",
            "\n",
            "---75th---\n"
          ],
          "name": "stdout"
        },
        {
          "output_type": "execute_result",
          "data": {
            "text/plain": [
              "17.01"
            ]
          },
          "metadata": {},
          "execution_count": 6
        }
      ]
    },
    {
      "cell_type": "markdown",
      "metadata": {
        "id": "5zP3_6qUJS6p"
      },
      "source": [
        "### skewness and kurtosis for fuel qty burned"
      ]
    },
    {
      "cell_type": "code",
      "metadata": {
        "colab": {
          "base_uri": "https://localhost:8080/"
        },
        "id": "7OMTngYAJRoI",
        "outputId": "9692ef5b-fa59-410e-8e7b-bd12c201757d"
      },
      "source": [
        "print('---Skewness---')\n",
        "print(dframe['fuel_qty_burned'].skew().round(2))\n",
        "\n",
        "print('---Kurtosis---')\n",
        "print(dframe['fuel_qty_burned'].kurtosis().round(2))"
      ],
      "execution_count": 23,
      "outputs": [
        {
          "output_type": "stream",
          "text": [
            "---Skewness---\n",
            "15.85\n",
            "---Kurtosis---\n",
            "651.37\n"
          ],
          "name": "stdout"
        }
      ]
    },
    {
      "cell_type": "markdown",
      "metadata": {
        "id": "ObMPZzYkKoyO"
      },
      "source": [
        "### correlation"
      ]
    },
    {
      "cell_type": "code",
      "metadata": {
        "id": "PYt85OHWROkj",
        "colab": {
          "base_uri": "https://localhost:8080/"
        },
        "outputId": "ddf6aa75-208b-450c-8b10-bd0279564e85"
      },
      "source": [
        "print('---Correlation---')\n",
        "cor1 = dframe['fuel_cost_per_unit_burned']\n",
        "cor2 = dframe['fuel_qty_burned']\n",
        "cor3 = dframe['fuel_mmbtu_per_unit']\n",
        "\n",
        "print(cor1.corr(cor2))\n",
        "print(cor1.corr(cor3))"
      ],
      "execution_count": 29,
      "outputs": [
        {
          "output_type": "stream",
          "text": [
            "---Correlation---\n",
            "-0.018535416794825225\n",
            "-0.010033808428853071\n"
          ],
          "name": "stdout"
        }
      ]
    },
    {
      "cell_type": "markdown",
      "metadata": {
        "id": "uzI2ewXGOPZa"
      },
      "source": [
        "### percentage change"
      ]
    },
    {
      "cell_type": "code",
      "metadata": {
        "id": "sRbqNz6iROUN",
        "colab": {
          "base_uri": "https://localhost:8080/"
        },
        "outputId": "65beab20-4b2e-4527-ba50-ac2564962fe6"
      },
      "source": [
        "print('---Percentage Change---')\n",
        "coal = dframe.loc[dframe['fuel_type_code_pudl'] == 'coal']\n",
        "df1998 = coal.loc[coal['report_year'] == 1998]\n",
        "print(df1998['fuel_cost_per_unit_burned'].pct_change().sum())\n",
        "\n",
        "df1994 = coal.loc[coal['report_year'] == 1994]\n",
        "print(df1994['fuel_cost_per_unit_burned'].pct_change().sum())"
      ],
      "execution_count": 50,
      "outputs": [
        {
          "output_type": "stream",
          "text": [
            "---Percentage Change---\n",
            "101.10397544456904\n",
            "32.65753617595242\n"
          ],
          "name": "stdout"
        }
      ]
    },
    {
      "cell_type": "markdown",
      "metadata": {
        "id": "qB1uxXJYSEwE"
      },
      "source": [
        "### highest average fuel cost per unit delivered"
      ]
    },
    {
      "cell_type": "code",
      "metadata": {
        "colab": {
          "base_uri": "https://localhost:8080/"
        },
        "id": "CHjeNPehFj8Z",
        "outputId": "c1ac2758-7c0b-424c-c2bb-d1a815739b04"
      },
      "source": [
        "year = dframe.loc[dframe['report_year'] == 2009]\n",
        "print(year['fuel_cost_per_unit_delivered'].max())\n",
        "\n",
        "year = dframe.loc[dframe['report_year'] == 1996]\n",
        "print(year['fuel_cost_per_unit_delivered'].max())\n",
        "\n",
        "year = dframe.loc[dframe['report_year'] == 1997]\n",
        "print(year['fuel_cost_per_unit_delivered'].max())\n",
        "\n",
        "year = dframe.loc[dframe['report_year'] == 2004]\n",
        "print(year['fuel_cost_per_unit_delivered'].max())\n",
        "\n",
        "year = dframe.loc[dframe['report_year'] == 2018]\n",
        "print(year['fuel_cost_per_unit_delivered'].max())\n",
        "\n",
        "print('1997 has the highest average fuel cost per unit delivered')"
      ],
      "execution_count": 67,
      "outputs": [
        {
          "output_type": "stream",
          "text": [
            "730166.0\n",
            "7793482.0\n",
            "7964521.0\n",
            "132884.0\n",
            "245652.0\n",
            "1997 has the highest average fuel cost per unit delivered\n"
          ],
          "name": "stdout"
        }
      ]
    }
  ]
}
